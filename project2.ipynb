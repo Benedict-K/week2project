{
  "nbformat": 4,
  "nbformat_minor": 0,
  "metadata": {
    "colab": {
      "provenance": []
    },
    "kernelspec": {
      "name": "python3",
      "display_name": "Python 3"
    },
    "language_info": {
      "name": "python"
    }
  },
  "cells": [
    {
      "cell_type": "code",
      "execution_count": 1,
      "metadata": {
        "id": "tbX-nmrJrX9i"
      },
      "outputs": [],
      "source": [
        "%load_ext sql"
      ]
    },
    {
      "cell_type": "code",
      "source": [
        "%sql PRAGMA  SQL_safe_updates = OFF"
      ],
      "metadata": {
        "id": "2PUX9ZvRSIAn",
        "outputId": "f6f1e4d6-b028-4f96-da5b-0b2e2eceffa5",
        "colab": {
          "base_uri": "https://localhost:8080/"
        }
      },
      "execution_count": 92,
      "outputs": [
        {
          "output_type": "stream",
          "name": "stdout",
          "text": [
            " * sqlite:///stud_db.db\n",
            "Done.\n"
          ]
        },
        {
          "output_type": "execute_result",
          "data": {
            "text/plain": [
              "[]"
            ]
          },
          "metadata": {},
          "execution_count": 92
        }
      ]
    },
    {
      "cell_type": "code",
      "source": [
        "%sql sqlite:///stud_db.db\n"
      ],
      "metadata": {
        "id": "xatIqIAktxLP"
      },
      "execution_count": 3,
      "outputs": []
    },
    {
      "cell_type": "code",
      "source": [
        "%%sql\n",
        "CREATE TABLE personal_details (\n",
        "national_ID INTEGER(15) , stud_ID VARCHAR(15),stud_name VARCHAR(100),\n",
        "phone_number VARCHAR(15),age INTEGER, gender VARCHAR(10),\n",
        "PRIMARY KEY(national_ID) );"
      ],
      "metadata": {
        "colab": {
          "base_uri": "https://localhost:8080/"
        },
        "id": "_rfG3_IstxA9",
        "outputId": "991bc6ad-e8ae-4ef7-f347-1d1d65957638"
      },
      "execution_count": 4,
      "outputs": [
        {
          "output_type": "stream",
          "name": "stdout",
          "text": [
            " * sqlite:///stud_db.db\n",
            "Done.\n"
          ]
        },
        {
          "output_type": "execute_result",
          "data": {
            "text/plain": [
              "[]"
            ]
          },
          "metadata": {},
          "execution_count": 4
        }
      ]
    },
    {
      "cell_type": "code",
      "source": [
        "%%sql\n",
        "INSERT INTO personal_details (national_ID,stud_ID,stud_name,phone_number,age,gender)\n",
        "VALUES(\"344534\",\"stud101\",\"Hermione Granger\" ,\"0712345678\",20,\"Male\"),\n",
        "(\"379683\",\"stud102\",\"Draco Malfo\" ,\"0723456781\",21,\"Female\"),\n",
        "(\"347403\",\"stud103\",\"Jayden Wamashati\" ,\"0734567812\",22,\"Male\"),\n",
        "(\"377302\",\"stud104\",\"Ron Weasley\" ,\"0745678123\",19,\"Female\"),\n",
        "(\"336741\",\"stud105\",\"Dolores Umbridge\" ,\"0756781234\",21,\"Male\"),\n",
        "(\"307243\",\"stud106\",\"Hedwig Tonks\" ,\"0767812345\",21,\"Female\"),\n",
        "(\"310932\",\"stud107\",\"Chao Chang\" ,\"0778123456\",22,\"Male\"),\n",
        "(\"343920\",\"stud108\",\"Curfew Yaeitpm\" ,\"0781234567\",20,\"Female\"),\n",
        "(\"345261\",\"stud109\",\"Chaptr Mukenya\" ,\"0722345678\",20,\"Male\"),\n",
        "(\"339152\",\"stud110\",\"Natalie Mpema\" ,\"0733456781\",21,\"Female\"),\n",
        "(\"339746\",\"stud111\",\"Crew Nundi\" ,\"0744567812\",20,\"Male\"),\n",
        "(\"336373\",\"stud112\",\"Bandi Kagunda\" ,\"0755678123\",22,\"Female\"),\n",
        "(\"325252\",\"stud113\",\"Testimony Omolo\" ,\"0766456781\",21,\"Male\"),\n",
        "(\"321746\",\"stud114\",\"Career Mpya\" ,\"0741367812\",20,\"Male\"),\n",
        "(\"390234\",\"stud115\",\"Deamon Anduro\" ,\"0744421123\",22,\"Female\");\n"
      ],
      "metadata": {
        "colab": {
          "base_uri": "https://localhost:8080/"
        },
        "id": "oDvn1KFftw34",
        "outputId": "12e4722c-7d79-4e6d-b702-d6b171641704"
      },
      "execution_count": 5,
      "outputs": [
        {
          "output_type": "stream",
          "name": "stdout",
          "text": [
            " * sqlite:///stud_db.db\n",
            "15 rows affected.\n"
          ]
        },
        {
          "output_type": "execute_result",
          "data": {
            "text/plain": [
              "[]"
            ]
          },
          "metadata": {},
          "execution_count": 5
        }
      ]
    },
    {
      "cell_type": "code",
      "source": [
        "%%sql\n",
        "CREATE TABLE school_details(stud_ID VARCHAR(15), current_home_county VARCHAR(20),\n",
        "secondary_school_county VARCHAR(20), residence VARCHAR(15), stud_email VARCHAR(50),\n",
        "PRIMARY KEY (stud_ID)  );"
      ],
      "metadata": {
        "colab": {
          "base_uri": "https://localhost:8080/"
        },
        "id": "OGZIveB3twvD",
        "outputId": "d6bbf5d7-f26b-4204-815d-40b938331022"
      },
      "execution_count": 6,
      "outputs": [
        {
          "output_type": "stream",
          "name": "stdout",
          "text": [
            " * sqlite:///stud_db.db\n",
            "Done.\n"
          ]
        },
        {
          "output_type": "execute_result",
          "data": {
            "text/plain": [
              "[]"
            ]
          },
          "metadata": {},
          "execution_count": 6
        }
      ]
    },
    {
      "cell_type": "code",
      "source": [
        "%%sql\n",
        "INSERT INTO school_details (stud_ID)\n",
        "SELECT pd.stud_ID\n",
        "FROM personal_details pd\n",
        "LEFT JOIN school_details sd ON pd.stud_ID = sd.stud_ID\n",
        "WHERE sd.stud_ID IS NULL;"
      ],
      "metadata": {
        "colab": {
          "base_uri": "https://localhost:8080/"
        },
        "id": "bVCf6_MutwnK",
        "outputId": "0065f77a-7919-41ae-d598-4666f800bb35"
      },
      "execution_count": 7,
      "outputs": [
        {
          "output_type": "stream",
          "name": "stdout",
          "text": [
            " * sqlite:///stud_db.db\n",
            "15 rows affected.\n"
          ]
        },
        {
          "output_type": "execute_result",
          "data": {
            "text/plain": [
              "[]"
            ]
          },
          "metadata": {},
          "execution_count": 7
        }
      ]
    },
    {
      "cell_type": "code",
      "source": [
        "%%sql\n",
        "UPDATE school_details\n",
        "SET stud_email = (SELECT REPLACE (stud_name,' ','') ||'@zinduaschool.ac'\n",
        "\t\t\t\t\tFROM personal_details\n",
        "\t\t\t\t\tWHERE school_details.stud_ID = personal_details.stud_ID) ;"
      ],
      "metadata": {
        "colab": {
          "base_uri": "https://localhost:8080/"
        },
        "id": "ihDVzrvOu83r",
        "outputId": "91142af0-d32f-434f-fe47-be521104da76"
      },
      "execution_count": 8,
      "outputs": [
        {
          "output_type": "stream",
          "name": "stdout",
          "text": [
            " * sqlite:///stud_db.db\n",
            "15 rows affected.\n"
          ]
        },
        {
          "output_type": "execute_result",
          "data": {
            "text/plain": [
              "[]"
            ]
          },
          "metadata": {},
          "execution_count": 8
        }
      ]
    },
    {
      "cell_type": "code",
      "source": [
        "%%sql\n",
        "UPDATE school_details SET current_home_county=\"Nakuru\", secondary_school_county=\"Nairobi\", residence=\"In school\" WHERE stud_ID=\"stud101\";"
      ],
      "metadata": {
        "colab": {
          "base_uri": "https://localhost:8080/"
        },
        "id": "Az6PFDqJ58Jp",
        "outputId": "ab7f0563-1499-4ac1-8a1f-a81ed65ff046"
      },
      "execution_count": 9,
      "outputs": [
        {
          "output_type": "stream",
          "name": "stdout",
          "text": [
            " * sqlite:///stud_db.db\n",
            "1 rows affected.\n"
          ]
        },
        {
          "output_type": "execute_result",
          "data": {
            "text/plain": [
              "[]"
            ]
          },
          "metadata": {},
          "execution_count": 9
        }
      ]
    },
    {
      "cell_type": "code",
      "source": [
        "%sql UPDATE school_details SET current_home_county=\"Nairobi\", secondary_school_county=\"Nakuru\", residence=\"In school\" WHERE stud_ID=\"stud102\";"
      ],
      "metadata": {
        "colab": {
          "base_uri": "https://localhost:8080/"
        },
        "id": "aGkYIzMC8WZ2",
        "outputId": "5e83538f-5310-4f4e-833a-961ca700c5a8"
      },
      "execution_count": 10,
      "outputs": [
        {
          "output_type": "stream",
          "name": "stdout",
          "text": [
            " * sqlite:///stud_db.db\n",
            "1 rows affected.\n"
          ]
        },
        {
          "output_type": "execute_result",
          "data": {
            "text/plain": [
              "[]"
            ]
          },
          "metadata": {},
          "execution_count": 10
        }
      ]
    },
    {
      "cell_type": "code",
      "source": [
        "%sql UPDATE school_details SET current_home_county=\"Samburu\", secondary_school_county=\"Nairobi\", residence=\"Out of school\" WHERE stud_ID=\"stud103\";"
      ],
      "metadata": {
        "colab": {
          "base_uri": "https://localhost:8080/"
        },
        "id": "ZboOPzgq8WNf",
        "outputId": "549d5282-286c-4740-bf5c-5213d6e98fdf"
      },
      "execution_count": 11,
      "outputs": [
        {
          "output_type": "stream",
          "name": "stdout",
          "text": [
            " * sqlite:///stud_db.db\n",
            "1 rows affected.\n"
          ]
        },
        {
          "output_type": "execute_result",
          "data": {
            "text/plain": [
              "[]"
            ]
          },
          "metadata": {},
          "execution_count": 11
        }
      ]
    },
    {
      "cell_type": "code",
      "source": [
        "%sql UPDATE school_details SET current_home_county=\"Kericho\", secondary_school_county=\"Nairobi\", residence=\"In school\" WHERE stud_ID=\"stud104\";"
      ],
      "metadata": {
        "colab": {
          "base_uri": "https://localhost:8080/"
        },
        "id": "CNEW4zdh8WI_",
        "outputId": "7d9aa5a6-9c78-4f53-8152-a57e64f9a49d"
      },
      "execution_count": 12,
      "outputs": [
        {
          "output_type": "stream",
          "name": "stdout",
          "text": [
            " * sqlite:///stud_db.db\n",
            "1 rows affected.\n"
          ]
        },
        {
          "output_type": "execute_result",
          "data": {
            "text/plain": [
              "[]"
            ]
          },
          "metadata": {},
          "execution_count": 12
        }
      ]
    },
    {
      "cell_type": "code",
      "source": [
        "%sql UPDATE school_details SET current_home_county=\"Nyamira\", secondary_school_county=\"Nakuru\", residence=\"In school\" WHERE stud_ID=\"stud105\";"
      ],
      "metadata": {
        "colab": {
          "base_uri": "https://localhost:8080/"
        },
        "id": "4n3qJKU-8WDO",
        "outputId": "470aded8-9552-4410-afc4-4febcb87befa"
      },
      "execution_count": 13,
      "outputs": [
        {
          "output_type": "stream",
          "name": "stdout",
          "text": [
            " * sqlite:///stud_db.db\n",
            "1 rows affected.\n"
          ]
        },
        {
          "output_type": "execute_result",
          "data": {
            "text/plain": [
              "[]"
            ]
          },
          "metadata": {},
          "execution_count": 13
        }
      ]
    },
    {
      "cell_type": "code",
      "source": [
        "%sql UPDATE school_details SET current_home_county=\"Kisumu\", secondary_school_county=\"Nairobi\", residence=\"Out of school\" WHERE stud_ID=\"stud106\";"
      ],
      "metadata": {
        "colab": {
          "base_uri": "https://localhost:8080/"
        },
        "id": "mIh85_eq8WAH",
        "outputId": "cbb0c451-27ae-4a4c-9359-162c1b25a661"
      },
      "execution_count": 14,
      "outputs": [
        {
          "output_type": "stream",
          "name": "stdout",
          "text": [
            " * sqlite:///stud_db.db\n",
            "1 rows affected.\n"
          ]
        },
        {
          "output_type": "execute_result",
          "data": {
            "text/plain": [
              "[]"
            ]
          },
          "metadata": {},
          "execution_count": 14
        }
      ]
    },
    {
      "cell_type": "code",
      "source": [
        "%sql UPDATE school_details SET current_home_county=\"Nakuru\", secondary_school_county=\"Nairobi\", residence=\"Out of school\" WHERE stud_ID=\"stud107\";"
      ],
      "metadata": {
        "colab": {
          "base_uri": "https://localhost:8080/"
        },
        "id": "TT0a6UPI8V8_",
        "outputId": "71dab8a8-5239-4498-e14a-5cf2538a8afc"
      },
      "execution_count": 15,
      "outputs": [
        {
          "output_type": "stream",
          "name": "stdout",
          "text": [
            " * sqlite:///stud_db.db\n",
            "1 rows affected.\n"
          ]
        },
        {
          "output_type": "execute_result",
          "data": {
            "text/plain": [
              "[]"
            ]
          },
          "metadata": {},
          "execution_count": 15
        }
      ]
    },
    {
      "cell_type": "code",
      "source": [
        "%sql UPDATE school_details SET current_home_county=\"Kisumu\", secondary_school_county=\"Mombasa\", residence=\"Out of school\" WHERE stud_ID=\"stud108\";"
      ],
      "metadata": {
        "colab": {
          "base_uri": "https://localhost:8080/"
        },
        "id": "a0jSTch48V57",
        "outputId": "c7bdf5de-7be3-430f-d1ab-cae724b67f52"
      },
      "execution_count": 16,
      "outputs": [
        {
          "output_type": "stream",
          "name": "stdout",
          "text": [
            " * sqlite:///stud_db.db\n",
            "1 rows affected.\n"
          ]
        },
        {
          "output_type": "execute_result",
          "data": {
            "text/plain": [
              "[]"
            ]
          },
          "metadata": {},
          "execution_count": 16
        }
      ]
    },
    {
      "cell_type": "code",
      "source": [
        "%sql UPDATE school_details SET current_home_county=\"Kericho\", secondary_school_county=\"Mombasa\", residence=\"In school\" WHERE stud_ID=\"stud109\";"
      ],
      "metadata": {
        "colab": {
          "base_uri": "https://localhost:8080/"
        },
        "id": "JyWHkvUO8V2j",
        "outputId": "cbcbd2cb-f878-41a1-ae18-b4c492750807"
      },
      "execution_count": 17,
      "outputs": [
        {
          "output_type": "stream",
          "name": "stdout",
          "text": [
            " * sqlite:///stud_db.db\n",
            "1 rows affected.\n"
          ]
        },
        {
          "output_type": "execute_result",
          "data": {
            "text/plain": [
              "[]"
            ]
          },
          "metadata": {},
          "execution_count": 17
        }
      ]
    },
    {
      "cell_type": "code",
      "source": [
        "%sql UPDATE school_details SET current_home_county=\"Nakuru\", secondary_school_county=\"Mombasa\", residence=\"In school\" WHERE stud_ID=\"stud110\";"
      ],
      "metadata": {
        "colab": {
          "base_uri": "https://localhost:8080/"
        },
        "id": "r48TY05i8Vz7",
        "outputId": "c389c476-2a18-45da-d08e-d0bedad43f59"
      },
      "execution_count": 18,
      "outputs": [
        {
          "output_type": "stream",
          "name": "stdout",
          "text": [
            " * sqlite:///stud_db.db\n",
            "1 rows affected.\n"
          ]
        },
        {
          "output_type": "execute_result",
          "data": {
            "text/plain": [
              "[]"
            ]
          },
          "metadata": {},
          "execution_count": 18
        }
      ]
    },
    {
      "cell_type": "code",
      "source": [
        "%sql UPDATE school_details SET current_home_county=\"Kiambu\", secondary_school_county=\"Turkana\", residence=\"In school\" WHERE stud_ID=\"stud111\";"
      ],
      "metadata": {
        "colab": {
          "base_uri": "https://localhost:8080/"
        },
        "id": "Ivq-GqAh8VxC",
        "outputId": "466dbdff-78d6-4ad6-fdfd-7431daa674c8"
      },
      "execution_count": 19,
      "outputs": [
        {
          "output_type": "stream",
          "name": "stdout",
          "text": [
            " * sqlite:///stud_db.db\n",
            "1 rows affected.\n"
          ]
        },
        {
          "output_type": "execute_result",
          "data": {
            "text/plain": [
              "[]"
            ]
          },
          "metadata": {},
          "execution_count": 19
        }
      ]
    },
    {
      "cell_type": "code",
      "source": [
        "%sql UPDATE school_details SET current_home_county=\"Nairobi\", secondary_school_county=\"Nakuru\", residence=\"In school\" WHERE stud_ID=\"stud112\";"
      ],
      "metadata": {
        "colab": {
          "base_uri": "https://localhost:8080/"
        },
        "id": "8QwU0Ihw8VuK",
        "outputId": "531a3da9-0025-4b92-b9d1-05cd7cf1b935"
      },
      "execution_count": 20,
      "outputs": [
        {
          "output_type": "stream",
          "name": "stdout",
          "text": [
            " * sqlite:///stud_db.db\n",
            "1 rows affected.\n"
          ]
        },
        {
          "output_type": "execute_result",
          "data": {
            "text/plain": [
              "[]"
            ]
          },
          "metadata": {},
          "execution_count": 20
        }
      ]
    },
    {
      "cell_type": "code",
      "source": [
        "%sql UPDATE school_details SET current_home_county=\"Samburu\", secondary_school_county=\"Taita Taveta\", residence=\"In school\" WHERE stud_ID=\"stud113\";"
      ],
      "metadata": {
        "colab": {
          "base_uri": "https://localhost:8080/"
        },
        "id": "h2UmhAml8VrX",
        "outputId": "a0853f64-56c7-4c3a-b9d0-4a26676768cc"
      },
      "execution_count": 21,
      "outputs": [
        {
          "output_type": "stream",
          "name": "stdout",
          "text": [
            " * sqlite:///stud_db.db\n",
            "1 rows affected.\n"
          ]
        },
        {
          "output_type": "execute_result",
          "data": {
            "text/plain": [
              "[]"
            ]
          },
          "metadata": {},
          "execution_count": 21
        }
      ]
    },
    {
      "cell_type": "code",
      "source": [
        "%sql UPDATE school_details SET current_home_county=\"Kericho\", secondary_school_county=\"Nairobi\", residence=\"Out of school\" WHERE stud_ID=\"stud114\";"
      ],
      "metadata": {
        "colab": {
          "base_uri": "https://localhost:8080/"
        },
        "id": "OIM2Ovoz8Vob",
        "outputId": "b9518618-fd80-45f6-933b-4c4fdd7ebe70"
      },
      "execution_count": 22,
      "outputs": [
        {
          "output_type": "stream",
          "name": "stdout",
          "text": [
            " * sqlite:///stud_db.db\n",
            "1 rows affected.\n"
          ]
        },
        {
          "output_type": "execute_result",
          "data": {
            "text/plain": [
              "[]"
            ]
          },
          "metadata": {},
          "execution_count": 22
        }
      ]
    },
    {
      "cell_type": "code",
      "source": [
        "%sql UPDATE school_details SET current_home_county=\"Kiambu\", secondary_school_county=\"Mombasa\", residence=\"In school\" WHERE stud_ID=\"stud115\";"
      ],
      "metadata": {
        "colab": {
          "base_uri": "https://localhost:8080/"
        },
        "id": "cy2dfu6W8Vlr",
        "outputId": "cd44ca08-a3c5-424d-b961-4afa2c2d4213"
      },
      "execution_count": 23,
      "outputs": [
        {
          "output_type": "stream",
          "name": "stdout",
          "text": [
            " * sqlite:///stud_db.db\n",
            "1 rows affected.\n"
          ]
        },
        {
          "output_type": "execute_result",
          "data": {
            "text/plain": [
              "[]"
            ]
          },
          "metadata": {},
          "execution_count": 23
        }
      ]
    },
    {
      "cell_type": "code",
      "source": [
        "%%sql\n",
        "CREATE TABLE contact_details (stud_email VARCHAR(50)PRIMARY KEY , phone_number VARCHAR(15), next_of_kin_name VARCHAR(50),next_of_kin_relation VARCHAR(10), next_of_kin_contacts VARCHAR(13) );\n",
        "INSERT INTO contact_details(phone_number, next_of_kin_name,next_of_kin_relation,next_of_kin_contacts)\n",
        "VALUES(\"0712345678\",\"Darius Young\",\"Father\",\"0782382383\"),\n",
        "(\"0723456781\",\"Lucy Nderitu\",\"Mother\",\"0723238983\"),\n",
        "(\"0734567812\",\"Jerotich Koech\",\"Mother\",\"0779343126\"),\n",
        "(\"0745678123\",\"Mwaura Mwangi\",\"Father\",\"0798246347\"),\n",
        "(\"0756781234\",\"Ian Patrick\",\"Father\",\"0711234453\"),\n",
        "(\"0767812345\",\"Lebron James\",\"Father\",\"0765439233\"),\n",
        "(\"0778123456\",\"Magna Carter\",\"Father\",\"0702526243\"),\n",
        "(\"0781234567\",\"Cindy Wayne\",\"Mother\",\"0747282839\"),\n",
        "(\"0722345678\",\"Farah Maalim\",\"Mother\",\"0753927482\"),\n",
        "(\"0733456781\",\"Faiba Mbugua\",\"Father\",\"0713245748\"),\n",
        "(\"0744567812\",\"John Doe\",\"Father\",\"0725737383\"),\n",
        "(\"0755678123\",\"Klaus Michealson\",\"Father\",\"0789346276\"),\n",
        "(\"0766456781\",\"Suluhu Amdany\",\"Mother\",\"0785739259\"),\n",
        "(\"0741367812\",\"Daisy Auma\",\"Mother\",\"0791344537\"),\n",
        "(\"0755421123\",\"Getrude Karen\",\"Mother\",\"0765748244\");"
      ],
      "metadata": {
        "colab": {
          "base_uri": "https://localhost:8080/"
        },
        "id": "FFgGBFVG8Viv",
        "outputId": "36a6c363-401f-4dd1-fe47-727518eed367"
      },
      "execution_count": 24,
      "outputs": [
        {
          "output_type": "stream",
          "name": "stdout",
          "text": [
            " * sqlite:///stud_db.db\n",
            "Done.\n",
            "15 rows affected.\n"
          ]
        },
        {
          "output_type": "execute_result",
          "data": {
            "text/plain": [
              "[]"
            ]
          },
          "metadata": {},
          "execution_count": 24
        }
      ]
    },
    {
      "cell_type": "code",
      "source": [
        "%%sql\n",
        "UPDATE contact_details\n",
        "SET stud_email = (SELECT school_details.stud_email\n",
        "FROM school_details, personal_details\n",
        "WHERE school_details.stud_ID = personal_details.stud_ID\n",
        "AND personal_details.phone_number = contact_details.phone_number);\n"
      ],
      "metadata": {
        "colab": {
          "base_uri": "https://localhost:8080/"
        },
        "id": "jhWIYJuH8Vfp",
        "outputId": "0b979da7-3403-4d5a-c8c5-460107258e19"
      },
      "execution_count": 25,
      "outputs": [
        {
          "output_type": "stream",
          "name": "stdout",
          "text": [
            " * sqlite:///stud_db.db\n",
            "15 rows affected.\n"
          ]
        },
        {
          "output_type": "execute_result",
          "data": {
            "text/plain": [
              "[]"
            ]
          },
          "metadata": {},
          "execution_count": 25
        }
      ]
    },
    {
      "cell_type": "code",
      "source": [
        "%%sql\n",
        "CREATE TABLE financial_details (stud_ID VARCHAR(15) ,stud_name VARCHAR(50) ,\n",
        "sem_fee INTEGER(6) , fee_paid INTEGER(6),\n",
        "PRIMARY KEY(stud_ID) );"
      ],
      "metadata": {
        "colab": {
          "base_uri": "https://localhost:8080/"
        },
        "id": "rEBlneT88VWV",
        "outputId": "1bbb09eb-9912-4083-a89d-2efabaf074c8"
      },
      "execution_count": 26,
      "outputs": [
        {
          "output_type": "stream",
          "name": "stdout",
          "text": [
            " * sqlite:///stud_db.db\n",
            "Done.\n"
          ]
        },
        {
          "output_type": "execute_result",
          "data": {
            "text/plain": [
              "[]"
            ]
          },
          "metadata": {},
          "execution_count": 26
        }
      ]
    },
    {
      "cell_type": "code",
      "source": [
        "%%sql\n",
        "INSERT INTO financial_details(stud_ID,stud_name)\n",
        "SELECT personal_details.stud_ID, personal_details.stud_name\n",
        "FROM personal_details;\n"
      ],
      "metadata": {
        "colab": {
          "base_uri": "https://localhost:8080/"
        },
        "id": "YEBrSaB58VIq",
        "outputId": "5b4477e9-fec9-421b-cc2a-8ed310ac8d02"
      },
      "execution_count": 27,
      "outputs": [
        {
          "output_type": "stream",
          "name": "stdout",
          "text": [
            " * sqlite:///stud_db.db\n",
            "15 rows affected.\n"
          ]
        },
        {
          "output_type": "execute_result",
          "data": {
            "text/plain": [
              "[]"
            ]
          },
          "metadata": {},
          "execution_count": 27
        }
      ]
    },
    {
      "cell_type": "code",
      "source": [
        "%sql UPDATE financial_details SET sem_fee = 25000, fee_paid=25000 WHERE stud_ID = \"stud101\";"
      ],
      "metadata": {
        "colab": {
          "base_uri": "https://localhost:8080/"
        },
        "id": "KYejPBueIixF",
        "outputId": "0320b472-0e67-4f49-b42a-7a0e56ddb335"
      },
      "execution_count": 28,
      "outputs": [
        {
          "output_type": "stream",
          "name": "stdout",
          "text": [
            " * sqlite:///stud_db.db\n",
            "1 rows affected.\n"
          ]
        },
        {
          "output_type": "execute_result",
          "data": {
            "text/plain": [
              "[]"
            ]
          },
          "metadata": {},
          "execution_count": 28
        }
      ]
    },
    {
      "cell_type": "code",
      "source": [
        "%sql UPDATE financial_details SET sem_fee= 25000, fee_paid=19000 WHERE stud_ID = \"stud102\";"
      ],
      "metadata": {
        "colab": {
          "base_uri": "https://localhost:8080/"
        },
        "id": "mPoBxIPLLCcq",
        "outputId": "c67bf7f6-23e9-4008-8aad-e89d6643160b"
      },
      "execution_count": 29,
      "outputs": [
        {
          "output_type": "stream",
          "name": "stdout",
          "text": [
            " * sqlite:///stud_db.db\n",
            "1 rows affected.\n"
          ]
        },
        {
          "output_type": "execute_result",
          "data": {
            "text/plain": [
              "[]"
            ]
          },
          "metadata": {},
          "execution_count": 29
        }
      ]
    },
    {
      "cell_type": "code",
      "source": [
        "%sql UPDATE financial_details SET sem_fee= 21900, fee_paid=20000 WHERE stud_ID = \"stud103\";"
      ],
      "metadata": {
        "colab": {
          "base_uri": "https://localhost:8080/"
        },
        "id": "q-GyonJxLKi0",
        "outputId": "7cf9a56d-9ef4-42b4-e12c-759c7b6a33f3"
      },
      "execution_count": 30,
      "outputs": [
        {
          "output_type": "stream",
          "name": "stdout",
          "text": [
            " * sqlite:///stud_db.db\n",
            "1 rows affected.\n"
          ]
        },
        {
          "output_type": "execute_result",
          "data": {
            "text/plain": [
              "[]"
            ]
          },
          "metadata": {},
          "execution_count": 30
        }
      ]
    },
    {
      "cell_type": "code",
      "source": [
        "%sql UPDATE financial_details SET sem_fee= 22000, fee_paid=22000 WHERE stud_ID = \"stud104\";"
      ],
      "metadata": {
        "colab": {
          "base_uri": "https://localhost:8080/"
        },
        "id": "aI_S8pG-LKfs",
        "outputId": "74b1b347-2774-4a92-f595-acb5a9302a18"
      },
      "execution_count": 31,
      "outputs": [
        {
          "output_type": "stream",
          "name": "stdout",
          "text": [
            " * sqlite:///stud_db.db\n",
            "1 rows affected.\n"
          ]
        },
        {
          "output_type": "execute_result",
          "data": {
            "text/plain": [
              "[]"
            ]
          },
          "metadata": {},
          "execution_count": 31
        }
      ]
    },
    {
      "cell_type": "code",
      "source": [
        "%sql UPDATE financial_details SET sem_fee= 25000, fee_paid=23400 WHERE stud_ID = \"stud105\";"
      ],
      "metadata": {
        "colab": {
          "base_uri": "https://localhost:8080/"
        },
        "id": "1IVyTX4QLKc_",
        "outputId": "0ba20929-1d28-4053-a6bc-0d4904fcd39d"
      },
      "execution_count": 32,
      "outputs": [
        {
          "output_type": "stream",
          "name": "stdout",
          "text": [
            " * sqlite:///stud_db.db\n",
            "1 rows affected.\n"
          ]
        },
        {
          "output_type": "execute_result",
          "data": {
            "text/plain": [
              "[]"
            ]
          },
          "metadata": {},
          "execution_count": 32
        }
      ]
    },
    {
      "cell_type": "code",
      "source": [
        "%sql UPDATE financial_details SET sem_fee= 25000, fee_paid=27000 WHERE stud_ID = \"stud106\";"
      ],
      "metadata": {
        "colab": {
          "base_uri": "https://localhost:8080/"
        },
        "id": "e-vurGIsLKZc",
        "outputId": "435b5ef2-2584-465d-e0d7-c1e3cba161a8"
      },
      "execution_count": 33,
      "outputs": [
        {
          "output_type": "stream",
          "name": "stdout",
          "text": [
            " * sqlite:///stud_db.db\n",
            "1 rows affected.\n"
          ]
        },
        {
          "output_type": "execute_result",
          "data": {
            "text/plain": [
              "[]"
            ]
          },
          "metadata": {},
          "execution_count": 33
        }
      ]
    },
    {
      "cell_type": "code",
      "source": [
        "%sql UPDATE financial_details SET sem_fee= 24230, fee_paid=21200 WHERE stud_ID = \"stud107\";"
      ],
      "metadata": {
        "colab": {
          "base_uri": "https://localhost:8080/"
        },
        "id": "Ew6FTxl7LKWp",
        "outputId": "686913b9-57bb-476a-9f4a-394fc9d539fc"
      },
      "execution_count": 34,
      "outputs": [
        {
          "output_type": "stream",
          "name": "stdout",
          "text": [
            " * sqlite:///stud_db.db\n",
            "1 rows affected.\n"
          ]
        },
        {
          "output_type": "execute_result",
          "data": {
            "text/plain": [
              "[]"
            ]
          },
          "metadata": {},
          "execution_count": 34
        }
      ]
    },
    {
      "cell_type": "code",
      "source": [
        "%sql UPDATE financial_details SET sem_fee= 25000, fee_paid=23500 WHERE stud_ID = \"stud108\";"
      ],
      "metadata": {
        "colab": {
          "base_uri": "https://localhost:8080/"
        },
        "id": "U7dJu-yhLKT8",
        "outputId": "c40d513d-ddee-4bd2-cb15-7f6ae8197d16"
      },
      "execution_count": 35,
      "outputs": [
        {
          "output_type": "stream",
          "name": "stdout",
          "text": [
            " * sqlite:///stud_db.db\n",
            "1 rows affected.\n"
          ]
        },
        {
          "output_type": "execute_result",
          "data": {
            "text/plain": [
              "[]"
            ]
          },
          "metadata": {},
          "execution_count": 35
        }
      ]
    },
    {
      "cell_type": "code",
      "source": [
        "%sql UPDATE financial_details SET sem_fee= 25000, fee_paid=24500 WHERE stud_ID = \"stud109\";"
      ],
      "metadata": {
        "colab": {
          "base_uri": "https://localhost:8080/"
        },
        "id": "3KHvrdA4LKRH",
        "outputId": "40312741-fd12-4044-c37b-c651d0ae80ea"
      },
      "execution_count": 36,
      "outputs": [
        {
          "output_type": "stream",
          "name": "stdout",
          "text": [
            " * sqlite:///stud_db.db\n",
            "1 rows affected.\n"
          ]
        },
        {
          "output_type": "execute_result",
          "data": {
            "text/plain": [
              "[]"
            ]
          },
          "metadata": {},
          "execution_count": 36
        }
      ]
    },
    {
      "cell_type": "code",
      "source": [
        "%sql UPDATE financial_details SET sem_fee= 25000, fee_paid=25000 WHERE stud_ID = \"stud110\";"
      ],
      "metadata": {
        "colab": {
          "base_uri": "https://localhost:8080/"
        },
        "id": "ewD4nldrLKN6",
        "outputId": "340d2f9d-4723-4199-c598-d69f8bd777cb"
      },
      "execution_count": 37,
      "outputs": [
        {
          "output_type": "stream",
          "name": "stdout",
          "text": [
            " * sqlite:///stud_db.db\n",
            "1 rows affected.\n"
          ]
        },
        {
          "output_type": "execute_result",
          "data": {
            "text/plain": [
              "[]"
            ]
          },
          "metadata": {},
          "execution_count": 37
        }
      ]
    },
    {
      "cell_type": "code",
      "source": [
        "%sql UPDATE financial_details SET sem_fee= 26000, fee_paid=26000 WHERE stud_ID = \"stud111\";"
      ],
      "metadata": {
        "colab": {
          "base_uri": "https://localhost:8080/"
        },
        "id": "vXh6pXIRLKLe",
        "outputId": "269d79aa-834a-4004-92bd-e45a27d1548d"
      },
      "execution_count": 38,
      "outputs": [
        {
          "output_type": "stream",
          "name": "stdout",
          "text": [
            " * sqlite:///stud_db.db\n",
            "1 rows affected.\n"
          ]
        },
        {
          "output_type": "execute_result",
          "data": {
            "text/plain": [
              "[]"
            ]
          },
          "metadata": {},
          "execution_count": 38
        }
      ]
    },
    {
      "cell_type": "code",
      "source": [
        "%sql UPDATE financial_details SET sem_fee= 25000, fee_paid=20900 WHERE stud_ID = \"stud112\";"
      ],
      "metadata": {
        "colab": {
          "base_uri": "https://localhost:8080/"
        },
        "id": "sxKvZn1yLKId",
        "outputId": "49437782-92de-4e5f-e968-c2a7f087d8be"
      },
      "execution_count": 39,
      "outputs": [
        {
          "output_type": "stream",
          "name": "stdout",
          "text": [
            " * sqlite:///stud_db.db\n",
            "1 rows affected.\n"
          ]
        },
        {
          "output_type": "execute_result",
          "data": {
            "text/plain": [
              "[]"
            ]
          },
          "metadata": {},
          "execution_count": 39
        }
      ]
    },
    {
      "cell_type": "code",
      "source": [
        "%sql UPDATE financial_details SET sem_fee= 25000, fee_paid=22300 WHERE stud_ID = \"stud113\";"
      ],
      "metadata": {
        "colab": {
          "base_uri": "https://localhost:8080/"
        },
        "id": "CZkCuRBILKFW",
        "outputId": "cb36930b-a6e6-454e-f479-66b6e6fe62df"
      },
      "execution_count": 40,
      "outputs": [
        {
          "output_type": "stream",
          "name": "stdout",
          "text": [
            " * sqlite:///stud_db.db\n",
            "1 rows affected.\n"
          ]
        },
        {
          "output_type": "execute_result",
          "data": {
            "text/plain": [
              "[]"
            ]
          },
          "metadata": {},
          "execution_count": 40
        }
      ]
    },
    {
      "cell_type": "code",
      "source": [
        "%sql UPDATE financial_details SET sem_fee= 19000, fee_paid=19000 WHERE stud_ID = \"stud114\";"
      ],
      "metadata": {
        "colab": {
          "base_uri": "https://localhost:8080/"
        },
        "id": "ZWV4kLPWLKBp",
        "outputId": "58861922-40c0-459f-8c8d-c2766e71dec4"
      },
      "execution_count": 41,
      "outputs": [
        {
          "output_type": "stream",
          "name": "stdout",
          "text": [
            " * sqlite:///stud_db.db\n",
            "1 rows affected.\n"
          ]
        },
        {
          "output_type": "execute_result",
          "data": {
            "text/plain": [
              "[]"
            ]
          },
          "metadata": {},
          "execution_count": 41
        }
      ]
    },
    {
      "cell_type": "code",
      "source": [
        "%sql UPDATE financial_details SET sem_fee= 20800, fee_paid=20800 WHERE stud_ID = \"stud115\";"
      ],
      "metadata": {
        "colab": {
          "base_uri": "https://localhost:8080/"
        },
        "id": "dkg90tW6LJ95",
        "outputId": "0e1afdd2-0228-4d58-e08b-858c5a7a4018"
      },
      "execution_count": 42,
      "outputs": [
        {
          "output_type": "stream",
          "name": "stdout",
          "text": [
            " * sqlite:///stud_db.db\n",
            "1 rows affected.\n"
          ]
        },
        {
          "output_type": "execute_result",
          "data": {
            "text/plain": [
              "[]"
            ]
          },
          "metadata": {},
          "execution_count": 42
        }
      ]
    },
    {
      "cell_type": "code",
      "source": [
        "%sql PRAGMA  SQL_safe_updates =ON;"
      ],
      "metadata": {
        "colab": {
          "base_uri": "https://localhost:8080/"
        },
        "id": "moBr8tRcIipW",
        "outputId": "a1f6dd62-38cf-4863-a1a6-241eb26a9cf1"
      },
      "execution_count": 43,
      "outputs": [
        {
          "output_type": "stream",
          "name": "stdout",
          "text": [
            " * sqlite:///stud_db.db\n",
            "Done.\n"
          ]
        },
        {
          "output_type": "execute_result",
          "data": {
            "text/plain": [
              "[]"
            ]
          },
          "metadata": {},
          "execution_count": 43
        }
      ]
    },
    {
      "cell_type": "code",
      "source": [
        "%%sql\n",
        "SELECT personal_details.stud_name,(personal_details.stud_ID) AS school_id,(school_details.stud_email) AS email,personal_details.phone_number\n",
        "FROM personal_details INNER JOIN school_details ON personal_details.stud_ID=school_details.stud_ID;"
      ],
      "metadata": {
        "colab": {
          "base_uri": "https://localhost:8080/",
          "height": 395
        },
        "id": "sc0RV6jRIiiw",
        "outputId": "65826e8b-447a-4db2-d260-2aada51dd030"
      },
      "execution_count": 44,
      "outputs": [
        {
          "output_type": "stream",
          "name": "stdout",
          "text": [
            " * sqlite:///stud_db.db\n",
            "Done.\n"
          ]
        },
        {
          "output_type": "execute_result",
          "data": {
            "text/plain": [
              "[('Hermione Granger', 'stud101', 'HermioneGranger@zinduaschool.ac', '0712345678'),\n",
              " ('Draco Malfo', 'stud102', 'DracoMalfo@zinduaschool.ac', '0723456781'),\n",
              " ('Jayden Wamashati', 'stud103', 'JaydenWamashati@zinduaschool.ac', '0734567812'),\n",
              " ('Ron Weasley', 'stud104', 'RonWeasley@zinduaschool.ac', '0745678123'),\n",
              " ('Dolores Umbridge', 'stud105', 'DoloresUmbridge@zinduaschool.ac', '0756781234'),\n",
              " ('Hedwig Tonks', 'stud106', 'HedwigTonks@zinduaschool.ac', '0767812345'),\n",
              " ('Chao Chang', 'stud107', 'ChaoChang@zinduaschool.ac', '0778123456'),\n",
              " ('Curfew Yaeitpm', 'stud108', 'CurfewYaeitpm@zinduaschool.ac', '0781234567'),\n",
              " ('Chaptr Mukenya', 'stud109', 'ChaptrMukenya@zinduaschool.ac', '0722345678'),\n",
              " ('Natalie Mpema', 'stud110', 'NatalieMpema@zinduaschool.ac', '0733456781'),\n",
              " ('Crew Nundi', 'stud111', 'CrewNundi@zinduaschool.ac', '0744567812'),\n",
              " ('Bandi Kagunda', 'stud112', 'BandiKagunda@zinduaschool.ac', '0755678123'),\n",
              " ('Testimony Omolo', 'stud113', 'TestimonyOmolo@zinduaschool.ac', '0766456781'),\n",
              " ('Career Mpya', 'stud114', 'CareerMpya@zinduaschool.ac', '0741367812'),\n",
              " ('Deamon Anduro', 'stud115', 'DeamonAnduro@zinduaschool.ac', '0744421123')]"
            ],
            "text/html": [
              "<table>\n",
              "    <thead>\n",
              "        <tr>\n",
              "            <th>stud_name</th>\n",
              "            <th>school_id</th>\n",
              "            <th>email</th>\n",
              "            <th>phone_number</th>\n",
              "        </tr>\n",
              "    </thead>\n",
              "    <tbody>\n",
              "        <tr>\n",
              "            <td>Hermione Granger</td>\n",
              "            <td>stud101</td>\n",
              "            <td>HermioneGranger@zinduaschool.ac</td>\n",
              "            <td>0712345678</td>\n",
              "        </tr>\n",
              "        <tr>\n",
              "            <td>Draco Malfo</td>\n",
              "            <td>stud102</td>\n",
              "            <td>DracoMalfo@zinduaschool.ac</td>\n",
              "            <td>0723456781</td>\n",
              "        </tr>\n",
              "        <tr>\n",
              "            <td>Jayden Wamashati</td>\n",
              "            <td>stud103</td>\n",
              "            <td>JaydenWamashati@zinduaschool.ac</td>\n",
              "            <td>0734567812</td>\n",
              "        </tr>\n",
              "        <tr>\n",
              "            <td>Ron Weasley</td>\n",
              "            <td>stud104</td>\n",
              "            <td>RonWeasley@zinduaschool.ac</td>\n",
              "            <td>0745678123</td>\n",
              "        </tr>\n",
              "        <tr>\n",
              "            <td>Dolores Umbridge</td>\n",
              "            <td>stud105</td>\n",
              "            <td>DoloresUmbridge@zinduaschool.ac</td>\n",
              "            <td>0756781234</td>\n",
              "        </tr>\n",
              "        <tr>\n",
              "            <td>Hedwig Tonks</td>\n",
              "            <td>stud106</td>\n",
              "            <td>HedwigTonks@zinduaschool.ac</td>\n",
              "            <td>0767812345</td>\n",
              "        </tr>\n",
              "        <tr>\n",
              "            <td>Chao Chang</td>\n",
              "            <td>stud107</td>\n",
              "            <td>ChaoChang@zinduaschool.ac</td>\n",
              "            <td>0778123456</td>\n",
              "        </tr>\n",
              "        <tr>\n",
              "            <td>Curfew Yaeitpm</td>\n",
              "            <td>stud108</td>\n",
              "            <td>CurfewYaeitpm@zinduaschool.ac</td>\n",
              "            <td>0781234567</td>\n",
              "        </tr>\n",
              "        <tr>\n",
              "            <td>Chaptr Mukenya</td>\n",
              "            <td>stud109</td>\n",
              "            <td>ChaptrMukenya@zinduaschool.ac</td>\n",
              "            <td>0722345678</td>\n",
              "        </tr>\n",
              "        <tr>\n",
              "            <td>Natalie Mpema</td>\n",
              "            <td>stud110</td>\n",
              "            <td>NatalieMpema@zinduaschool.ac</td>\n",
              "            <td>0733456781</td>\n",
              "        </tr>\n",
              "        <tr>\n",
              "            <td>Crew Nundi</td>\n",
              "            <td>stud111</td>\n",
              "            <td>CrewNundi@zinduaschool.ac</td>\n",
              "            <td>0744567812</td>\n",
              "        </tr>\n",
              "        <tr>\n",
              "            <td>Bandi Kagunda</td>\n",
              "            <td>stud112</td>\n",
              "            <td>BandiKagunda@zinduaschool.ac</td>\n",
              "            <td>0755678123</td>\n",
              "        </tr>\n",
              "        <tr>\n",
              "            <td>Testimony Omolo</td>\n",
              "            <td>stud113</td>\n",
              "            <td>TestimonyOmolo@zinduaschool.ac</td>\n",
              "            <td>0766456781</td>\n",
              "        </tr>\n",
              "        <tr>\n",
              "            <td>Career Mpya</td>\n",
              "            <td>stud114</td>\n",
              "            <td>CareerMpya@zinduaschool.ac</td>\n",
              "            <td>0741367812</td>\n",
              "        </tr>\n",
              "        <tr>\n",
              "            <td>Deamon Anduro</td>\n",
              "            <td>stud115</td>\n",
              "            <td>DeamonAnduro@zinduaschool.ac</td>\n",
              "            <td>0744421123</td>\n",
              "        </tr>\n",
              "    </tbody>\n",
              "</table>"
            ]
          },
          "metadata": {},
          "execution_count": 44
        }
      ]
    },
    {
      "cell_type": "code",
      "source": [
        "%%sql\n",
        "SELECT * FROM school_details"
      ],
      "metadata": {
        "id": "qLP2mlzIpNdj",
        "outputId": "45164bfe-2ee9-41ac-eca1-00a2a6ce7e58",
        "colab": {
          "base_uri": "https://localhost:8080/",
          "height": 395
        }
      },
      "execution_count": 45,
      "outputs": [
        {
          "output_type": "stream",
          "name": "stdout",
          "text": [
            " * sqlite:///stud_db.db\n",
            "Done.\n"
          ]
        },
        {
          "output_type": "execute_result",
          "data": {
            "text/plain": [
              "[('stud101', 'Nakuru', 'Nairobi', 'In school', 'HermioneGranger@zinduaschool.ac'),\n",
              " ('stud102', 'Nairobi', 'Nakuru', 'In school', 'DracoMalfo@zinduaschool.ac'),\n",
              " ('stud103', 'Samburu', 'Nairobi', 'Out of school', 'JaydenWamashati@zinduaschool.ac'),\n",
              " ('stud104', 'Kericho', 'Nairobi', 'In school', 'RonWeasley@zinduaschool.ac'),\n",
              " ('stud105', 'Nyamira', 'Nakuru', 'In school', 'DoloresUmbridge@zinduaschool.ac'),\n",
              " ('stud106', 'Kisumu', 'Nairobi', 'Out of school', 'HedwigTonks@zinduaschool.ac'),\n",
              " ('stud107', 'Nakuru', 'Nairobi', 'Out of school', 'ChaoChang@zinduaschool.ac'),\n",
              " ('stud108', 'Kisumu', 'Mombasa', 'Out of school', 'CurfewYaeitpm@zinduaschool.ac'),\n",
              " ('stud109', 'Kericho', 'Mombasa', 'In school', 'ChaptrMukenya@zinduaschool.ac'),\n",
              " ('stud110', 'Nakuru', 'Mombasa', 'In school', 'NatalieMpema@zinduaschool.ac'),\n",
              " ('stud111', 'Kiambu', 'Turkana', 'In school', 'CrewNundi@zinduaschool.ac'),\n",
              " ('stud112', 'Nairobi', 'Nakuru', 'In school', 'BandiKagunda@zinduaschool.ac'),\n",
              " ('stud113', 'Samburu', 'Taita Taveta', 'In school', 'TestimonyOmolo@zinduaschool.ac'),\n",
              " ('stud114', 'Kericho', 'Nairobi', 'Out of school', 'CareerMpya@zinduaschool.ac'),\n",
              " ('stud115', 'Kiambu', 'Mombasa', 'In school', 'DeamonAnduro@zinduaschool.ac')]"
            ],
            "text/html": [
              "<table>\n",
              "    <thead>\n",
              "        <tr>\n",
              "            <th>stud_ID</th>\n",
              "            <th>current_home_county</th>\n",
              "            <th>secondary_school_county</th>\n",
              "            <th>residence</th>\n",
              "            <th>stud_email</th>\n",
              "        </tr>\n",
              "    </thead>\n",
              "    <tbody>\n",
              "        <tr>\n",
              "            <td>stud101</td>\n",
              "            <td>Nakuru</td>\n",
              "            <td>Nairobi</td>\n",
              "            <td>In school</td>\n",
              "            <td>HermioneGranger@zinduaschool.ac</td>\n",
              "        </tr>\n",
              "        <tr>\n",
              "            <td>stud102</td>\n",
              "            <td>Nairobi</td>\n",
              "            <td>Nakuru</td>\n",
              "            <td>In school</td>\n",
              "            <td>DracoMalfo@zinduaschool.ac</td>\n",
              "        </tr>\n",
              "        <tr>\n",
              "            <td>stud103</td>\n",
              "            <td>Samburu</td>\n",
              "            <td>Nairobi</td>\n",
              "            <td>Out of school</td>\n",
              "            <td>JaydenWamashati@zinduaschool.ac</td>\n",
              "        </tr>\n",
              "        <tr>\n",
              "            <td>stud104</td>\n",
              "            <td>Kericho</td>\n",
              "            <td>Nairobi</td>\n",
              "            <td>In school</td>\n",
              "            <td>RonWeasley@zinduaschool.ac</td>\n",
              "        </tr>\n",
              "        <tr>\n",
              "            <td>stud105</td>\n",
              "            <td>Nyamira</td>\n",
              "            <td>Nakuru</td>\n",
              "            <td>In school</td>\n",
              "            <td>DoloresUmbridge@zinduaschool.ac</td>\n",
              "        </tr>\n",
              "        <tr>\n",
              "            <td>stud106</td>\n",
              "            <td>Kisumu</td>\n",
              "            <td>Nairobi</td>\n",
              "            <td>Out of school</td>\n",
              "            <td>HedwigTonks@zinduaschool.ac</td>\n",
              "        </tr>\n",
              "        <tr>\n",
              "            <td>stud107</td>\n",
              "            <td>Nakuru</td>\n",
              "            <td>Nairobi</td>\n",
              "            <td>Out of school</td>\n",
              "            <td>ChaoChang@zinduaschool.ac</td>\n",
              "        </tr>\n",
              "        <tr>\n",
              "            <td>stud108</td>\n",
              "            <td>Kisumu</td>\n",
              "            <td>Mombasa</td>\n",
              "            <td>Out of school</td>\n",
              "            <td>CurfewYaeitpm@zinduaschool.ac</td>\n",
              "        </tr>\n",
              "        <tr>\n",
              "            <td>stud109</td>\n",
              "            <td>Kericho</td>\n",
              "            <td>Mombasa</td>\n",
              "            <td>In school</td>\n",
              "            <td>ChaptrMukenya@zinduaschool.ac</td>\n",
              "        </tr>\n",
              "        <tr>\n",
              "            <td>stud110</td>\n",
              "            <td>Nakuru</td>\n",
              "            <td>Mombasa</td>\n",
              "            <td>In school</td>\n",
              "            <td>NatalieMpema@zinduaschool.ac</td>\n",
              "        </tr>\n",
              "        <tr>\n",
              "            <td>stud111</td>\n",
              "            <td>Kiambu</td>\n",
              "            <td>Turkana</td>\n",
              "            <td>In school</td>\n",
              "            <td>CrewNundi@zinduaschool.ac</td>\n",
              "        </tr>\n",
              "        <tr>\n",
              "            <td>stud112</td>\n",
              "            <td>Nairobi</td>\n",
              "            <td>Nakuru</td>\n",
              "            <td>In school</td>\n",
              "            <td>BandiKagunda@zinduaschool.ac</td>\n",
              "        </tr>\n",
              "        <tr>\n",
              "            <td>stud113</td>\n",
              "            <td>Samburu</td>\n",
              "            <td>Taita Taveta</td>\n",
              "            <td>In school</td>\n",
              "            <td>TestimonyOmolo@zinduaschool.ac</td>\n",
              "        </tr>\n",
              "        <tr>\n",
              "            <td>stud114</td>\n",
              "            <td>Kericho</td>\n",
              "            <td>Nairobi</td>\n",
              "            <td>Out of school</td>\n",
              "            <td>CareerMpya@zinduaschool.ac</td>\n",
              "        </tr>\n",
              "        <tr>\n",
              "            <td>stud115</td>\n",
              "            <td>Kiambu</td>\n",
              "            <td>Mombasa</td>\n",
              "            <td>In school</td>\n",
              "            <td>DeamonAnduro@zinduaschool.ac</td>\n",
              "        </tr>\n",
              "    </tbody>\n",
              "</table>"
            ]
          },
          "metadata": {},
          "execution_count": 45
        }
      ]
    },
    {
      "cell_type": "code",
      "source": [
        "%%sql\n",
        "CREATE TABLE full_student_details AS\n",
        "SELECT cd.stud_email, cd.phone_number, cd.next_of_kin_name, cd.next_of_kin_relation, cd.next_of_kin_contacts,\n",
        "       sd.stud_ID, sd.current_home_county, sd.secondary_school_county, sd.residence,\n",
        "       fd.stud_name, fd.sem_fee, fd.fee_paid\n",
        "FROM contact_details cd\n",
        "JOIN school_details sd ON cd.stud_email = sd.stud_email\n",
        "JOIN financial_details fd ON sd.stud_ID = fd.stud_ID;"
      ],
      "metadata": {
        "id": "64N6fW2CBe2c",
        "outputId": "3c6352e7-9d37-4499-92c9-2c61799cee01",
        "colab": {
          "base_uri": "https://localhost:8080/"
        }
      },
      "execution_count": 46,
      "outputs": [
        {
          "output_type": "stream",
          "name": "stdout",
          "text": [
            " * sqlite:///stud_db.db\n",
            "Done.\n"
          ]
        },
        {
          "output_type": "execute_result",
          "data": {
            "text/plain": [
              "[]"
            ]
          },
          "metadata": {},
          "execution_count": 46
        }
      ]
    },
    {
      "cell_type": "code",
      "source": [
        "%%sql\n",
        "INSERT INTO financial_details (stud_name) VALUES(\"Kingsline Kiprono\"),(\"Benedict Murimi\"),(\"Ezra Cheruiyot\"),(\"James Kimani\")"
      ],
      "metadata": {
        "id": "Gq65-FMZG2py",
        "outputId": "1995314b-eeea-4ebc-8224-444c5d1844c8",
        "colab": {
          "base_uri": "https://localhost:8080/"
        }
      },
      "execution_count": 49,
      "outputs": [
        {
          "output_type": "stream",
          "name": "stdout",
          "text": [
            " * sqlite:///stud_db.db\n",
            "4 rows affected.\n"
          ]
        },
        {
          "output_type": "execute_result",
          "data": {
            "text/plain": [
              "[]"
            ]
          },
          "metadata": {},
          "execution_count": 49
        }
      ]
    },
    {
      "cell_type": "code",
      "source": [],
      "metadata": {
        "id": "7g_wemqjWSaj"
      },
      "execution_count": null,
      "outputs": []
    },
    {
      "cell_type": "code",
      "source": [
        "%%sql\n",
        "ALTER TABLE financial_details ADD fee_cleared;"
      ],
      "metadata": {
        "id": "OV9z5RASVx_x",
        "outputId": "87a2de6d-47de-4100-a50d-2b540e97f55e",
        "colab": {
          "base_uri": "https://localhost:8080/"
        }
      },
      "execution_count": 61,
      "outputs": [
        {
          "output_type": "stream",
          "name": "stdout",
          "text": [
            " * sqlite:///stud_db.db\n",
            "Done.\n"
          ]
        },
        {
          "output_type": "execute_result",
          "data": {
            "text/plain": [
              "[]"
            ]
          },
          "metadata": {},
          "execution_count": 61
        }
      ]
    },
    {
      "cell_type": "code",
      "source": [
        "%%sql\n",
        "UPDATE financial_details\n",
        "SET fee_cleared = True\n",
        "WHERE fee_paid = sem_fee;"
      ],
      "metadata": {
        "id": "HPmNwf1jN1jk",
        "outputId": "d433d125-5e4c-443b-8097-016c38a1ee3f",
        "colab": {
          "base_uri": "https://localhost:8080/"
        }
      },
      "execution_count": 62,
      "outputs": [
        {
          "output_type": "stream",
          "name": "stdout",
          "text": [
            " * sqlite:///stud_db.db\n",
            "6 rows affected.\n"
          ]
        },
        {
          "output_type": "execute_result",
          "data": {
            "text/plain": [
              "[]"
            ]
          },
          "metadata": {},
          "execution_count": 62
        }
      ]
    },
    {
      "cell_type": "code",
      "source": [
        "%%sql\n",
        "SELECT personal_details.national_ID,personal_details.stud_name FROM personal_details\n",
        "INNER JOIN financial_details ON  personal_details.stud_ID=financial_details.stud_ID WHERE fee_cleared=True;"
      ],
      "metadata": {
        "id": "Ytzm76IuYsk8",
        "outputId": "c0ab5eae-08cf-492d-810f-0d8c904c1334",
        "colab": {
          "base_uri": "https://localhost:8080/",
          "height": 203
        }
      },
      "execution_count": 63,
      "outputs": [
        {
          "output_type": "stream",
          "name": "stdout",
          "text": [
            " * sqlite:///stud_db.db\n",
            "Done.\n"
          ]
        },
        {
          "output_type": "execute_result",
          "data": {
            "text/plain": [
              "[(344534, 'Hermione Granger'),\n",
              " (377302, 'Ron Weasley'),\n",
              " (339152, 'Natalie Mpema'),\n",
              " (339746, 'Crew Nundi'),\n",
              " (321746, 'Career Mpya'),\n",
              " (390234, 'Deamon Anduro')]"
            ],
            "text/html": [
              "<table>\n",
              "    <thead>\n",
              "        <tr>\n",
              "            <th>national_ID</th>\n",
              "            <th>stud_name</th>\n",
              "        </tr>\n",
              "    </thead>\n",
              "    <tbody>\n",
              "        <tr>\n",
              "            <td>344534</td>\n",
              "            <td>Hermione Granger</td>\n",
              "        </tr>\n",
              "        <tr>\n",
              "            <td>377302</td>\n",
              "            <td>Ron Weasley</td>\n",
              "        </tr>\n",
              "        <tr>\n",
              "            <td>339152</td>\n",
              "            <td>Natalie Mpema</td>\n",
              "        </tr>\n",
              "        <tr>\n",
              "            <td>339746</td>\n",
              "            <td>Crew Nundi</td>\n",
              "        </tr>\n",
              "        <tr>\n",
              "            <td>321746</td>\n",
              "            <td>Career Mpya</td>\n",
              "        </tr>\n",
              "        <tr>\n",
              "            <td>390234</td>\n",
              "            <td>Deamon Anduro</td>\n",
              "        </tr>\n",
              "    </tbody>\n",
              "</table>"
            ]
          },
          "metadata": {},
          "execution_count": 63
        }
      ]
    },
    {
      "cell_type": "code",
      "source": [
        "%%sql\n",
        "SELECT SUM(fee_paid) FROM financial_details;"
      ],
      "metadata": {
        "id": "oc-t15oQY1il",
        "outputId": "bee4601f-72ce-44d3-f8ab-1b68d1d9f1fc",
        "colab": {
          "base_uri": "https://localhost:8080/",
          "height": 96
        }
      },
      "execution_count": 64,
      "outputs": [
        {
          "output_type": "stream",
          "name": "stdout",
          "text": [
            " * sqlite:///stud_db.db\n",
            "Done.\n"
          ]
        },
        {
          "output_type": "execute_result",
          "data": {
            "text/plain": [
              "[(339600,)]"
            ],
            "text/html": [
              "<table>\n",
              "    <thead>\n",
              "        <tr>\n",
              "            <th>SUM(fee_paid)</th>\n",
              "        </tr>\n",
              "    </thead>\n",
              "    <tbody>\n",
              "        <tr>\n",
              "            <td>339600</td>\n",
              "        </tr>\n",
              "    </tbody>\n",
              "</table>"
            ]
          },
          "metadata": {},
          "execution_count": 64
        }
      ]
    },
    {
      "cell_type": "code",
      "source": [
        "%%sql\n",
        "SELECT SUM(sem_fee)-SUM(fee_paid) FROM financial_details"
      ],
      "metadata": {
        "id": "P_xwRp21Y1ZA",
        "outputId": "b3d2a522-2138-4b61-9fde-2dd87ff308be",
        "colab": {
          "base_uri": "https://localhost:8080/",
          "height": 96
        }
      },
      "execution_count": 66,
      "outputs": [
        {
          "output_type": "stream",
          "name": "stdout",
          "text": [
            " * sqlite:///stud_db.db\n",
            "Done.\n"
          ]
        },
        {
          "output_type": "execute_result",
          "data": {
            "text/plain": [
              "[(19330,)]"
            ],
            "text/html": [
              "<table>\n",
              "    <thead>\n",
              "        <tr>\n",
              "            <th>SUM(sem_fee)-SUM(fee_paid)</th>\n",
              "        </tr>\n",
              "    </thead>\n",
              "    <tbody>\n",
              "        <tr>\n",
              "            <td>19330</td>\n",
              "        </tr>\n",
              "    </tbody>\n",
              "</table>"
            ]
          },
          "metadata": {},
          "execution_count": 66
        }
      ]
    },
    {
      "cell_type": "code",
      "source": [
        "%%sql\n",
        "SELECT COUNT(stud_ID),current_home_county FROM school_details\n",
        "GROUP BY current_home_county;\n"
      ],
      "metadata": {
        "id": "FXhhCbZ0d4mm",
        "outputId": "36b0654b-70f2-477a-ab32-0df2fd53bfa2",
        "colab": {
          "base_uri": "https://localhost:8080/",
          "height": 225
        }
      },
      "execution_count": 75,
      "outputs": [
        {
          "output_type": "stream",
          "name": "stdout",
          "text": [
            " * sqlite:///stud_db.db\n",
            "Done.\n"
          ]
        },
        {
          "output_type": "execute_result",
          "data": {
            "text/plain": [
              "[(3, 'Kericho'),\n",
              " (2, 'Kiambu'),\n",
              " (2, 'Kisumu'),\n",
              " (2, 'Nairobi'),\n",
              " (3, 'Nakuru'),\n",
              " (1, 'Nyamira'),\n",
              " (2, 'Samburu')]"
            ],
            "text/html": [
              "<table>\n",
              "    <thead>\n",
              "        <tr>\n",
              "            <th>COUNT(stud_ID)</th>\n",
              "            <th>current_home_county</th>\n",
              "        </tr>\n",
              "    </thead>\n",
              "    <tbody>\n",
              "        <tr>\n",
              "            <td>3</td>\n",
              "            <td>Kericho</td>\n",
              "        </tr>\n",
              "        <tr>\n",
              "            <td>2</td>\n",
              "            <td>Kiambu</td>\n",
              "        </tr>\n",
              "        <tr>\n",
              "            <td>2</td>\n",
              "            <td>Kisumu</td>\n",
              "        </tr>\n",
              "        <tr>\n",
              "            <td>2</td>\n",
              "            <td>Nairobi</td>\n",
              "        </tr>\n",
              "        <tr>\n",
              "            <td>3</td>\n",
              "            <td>Nakuru</td>\n",
              "        </tr>\n",
              "        <tr>\n",
              "            <td>1</td>\n",
              "            <td>Nyamira</td>\n",
              "        </tr>\n",
              "        <tr>\n",
              "            <td>2</td>\n",
              "            <td>Samburu</td>\n",
              "        </tr>\n",
              "    </tbody>\n",
              "</table>"
            ]
          },
          "metadata": {},
          "execution_count": 75
        }
      ]
    },
    {
      "cell_type": "code",
      "source": [
        "%%sql\n",
        "SELECT COUNT(personal_details.stud_ID), school_details.secondary_school_county,personal_details.gender FROM school_details\n",
        " INNER JOIN personal_details ON school_details.stud_ID=personal_details.stud_ID\n",
        " GROUP BY secondary_school_county,gender;"
      ],
      "metadata": {
        "id": "_weCZJChd4eH",
        "outputId": "0040ba98-aee0-4aef-8619-71f6c4be19bd",
        "colab": {
          "base_uri": "https://localhost:8080/",
          "height": 246
        }
      },
      "execution_count": 82,
      "outputs": [
        {
          "output_type": "stream",
          "name": "stdout",
          "text": [
            " * sqlite:///stud_db.db\n",
            "Done.\n"
          ]
        },
        {
          "output_type": "execute_result",
          "data": {
            "text/plain": [
              "[(3, 'Mombasa', 'Female'),\n",
              " (1, 'Mombasa', 'Male'),\n",
              " (2, 'Nairobi', 'Female'),\n",
              " (4, 'Nairobi', 'Male'),\n",
              " (2, 'Nakuru', 'Female'),\n",
              " (1, 'Nakuru', 'Male'),\n",
              " (1, 'Taita Taveta', 'Male'),\n",
              " (1, 'Turkana', 'Male')]"
            ],
            "text/html": [
              "<table>\n",
              "    <thead>\n",
              "        <tr>\n",
              "            <th>COUNT(personal_details.stud_ID)</th>\n",
              "            <th>secondary_school_county</th>\n",
              "            <th>gender</th>\n",
              "        </tr>\n",
              "    </thead>\n",
              "    <tbody>\n",
              "        <tr>\n",
              "            <td>3</td>\n",
              "            <td>Mombasa</td>\n",
              "            <td>Female</td>\n",
              "        </tr>\n",
              "        <tr>\n",
              "            <td>1</td>\n",
              "            <td>Mombasa</td>\n",
              "            <td>Male</td>\n",
              "        </tr>\n",
              "        <tr>\n",
              "            <td>2</td>\n",
              "            <td>Nairobi</td>\n",
              "            <td>Female</td>\n",
              "        </tr>\n",
              "        <tr>\n",
              "            <td>4</td>\n",
              "            <td>Nairobi</td>\n",
              "            <td>Male</td>\n",
              "        </tr>\n",
              "        <tr>\n",
              "            <td>2</td>\n",
              "            <td>Nakuru</td>\n",
              "            <td>Female</td>\n",
              "        </tr>\n",
              "        <tr>\n",
              "            <td>1</td>\n",
              "            <td>Nakuru</td>\n",
              "            <td>Male</td>\n",
              "        </tr>\n",
              "        <tr>\n",
              "            <td>1</td>\n",
              "            <td>Taita Taveta</td>\n",
              "            <td>Male</td>\n",
              "        </tr>\n",
              "        <tr>\n",
              "            <td>1</td>\n",
              "            <td>Turkana</td>\n",
              "            <td>Male</td>\n",
              "        </tr>\n",
              "    </tbody>\n",
              "</table>"
            ]
          },
          "metadata": {},
          "execution_count": 82
        }
      ]
    },
    {
      "cell_type": "code",
      "source": [
        "%%sql\n",
        "SELECT\n",
        "    (SELECT COUNT(stud_ID) FROM full_student_details WHERE next_of_kin_relation = 'Mother') * 100.0 / (SELECT COUNT(*) FROM full_student_details) AS mother_percentage,\n",
        "    (SELECT COUNT(stud_ID) FROM full_student_details WHERE next_of_kin_relation = 'Father') * 100.0 / (SELECT COUNT(*) FROM full_student_details) AS father_percentage;"
      ],
      "metadata": {
        "id": "epgYDo5Dk3bX",
        "outputId": "e2df12c8-ab47-4e9b-b721-0a6e7cc4350d",
        "colab": {
          "base_uri": "https://localhost:8080/",
          "height": 96
        }
      },
      "execution_count": 91,
      "outputs": [
        {
          "output_type": "stream",
          "name": "stdout",
          "text": [
            " * sqlite:///stud_db.db\n",
            "Done.\n"
          ]
        },
        {
          "output_type": "execute_result",
          "data": {
            "text/plain": [
              "[(42.857142857142854, 57.142857142857146)]"
            ],
            "text/html": [
              "<table>\n",
              "    <thead>\n",
              "        <tr>\n",
              "            <th>mother_percentage</th>\n",
              "            <th>father_percentage</th>\n",
              "        </tr>\n",
              "    </thead>\n",
              "    <tbody>\n",
              "        <tr>\n",
              "            <td>42.857142857142854</td>\n",
              "            <td>57.142857142857146</td>\n",
              "        </tr>\n",
              "    </tbody>\n",
              "</table>"
            ]
          },
          "metadata": {},
          "execution_count": 91
        }
      ]
    }
  ]
}